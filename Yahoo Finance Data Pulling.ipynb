{
 "cells": [
  {
   "cell_type": "code",
   "execution_count": 1,
   "metadata": {},
   "outputs": [
    {
     "name": "stdout",
     "output_type": "stream",
     "text": [
      "Requirement already satisfied (use --upgrade to upgrade): upstox in c:\\users\\mihir.rao\\appdata\\local\\continuum\\anaconda3\\lib\\site-packages\n",
      "Requirement already satisfied (use --upgrade to upgrade): future in c:\\users\\mihir.rao\\appdata\\local\\continuum\\anaconda3\\lib\\site-packages (from upstox)\n",
      "Requirement already satisfied (use --upgrade to upgrade): requests in c:\\users\\mihir.rao\\appdata\\local\\continuum\\anaconda3\\lib\\site-packages (from upstox)\n",
      "Requirement already satisfied (use --upgrade to upgrade): websocket-client in c:\\users\\mihir.rao\\appdata\\local\\continuum\\anaconda3\\lib\\site-packages (from upstox)\n",
      "Requirement already satisfied (use --upgrade to upgrade): six in c:\\users\\mihir.rao\\appdata\\local\\continuum\\anaconda3\\lib\\site-packages (from websocket-client->upstox)\n"
     ]
    },
    {
     "name": "stderr",
     "output_type": "stream",
     "text": [
      "You are using pip version 8.1.1, however version 20.0.2 is available.\n",
      "You should consider upgrading via the 'python -m pip install --upgrade pip' command.\n"
     ]
    },
    {
     "name": "stdout",
     "output_type": "stream",
     "text": [
      "Requirement already satisfied (use --upgrade to upgrade): future in c:\\users\\mihir.rao\\appdata\\local\\continuum\\anaconda3\\lib\\site-packages\n"
     ]
    },
    {
     "name": "stderr",
     "output_type": "stream",
     "text": [
      "You are using pip version 8.1.1, however version 20.0.2 is available.\n",
      "You should consider upgrading via the 'python -m pip install --upgrade pip' command.\n"
     ]
    },
    {
     "name": "stdout",
     "output_type": "stream",
     "text": [
      "Requirement already satisfied (use --upgrade to upgrade): websocket-client in c:\\users\\mihir.rao\\appdata\\local\\continuum\\anaconda3\\lib\\site-packages\n",
      "Requirement already satisfied (use --upgrade to upgrade): six in c:\\users\\mihir.rao\\appdata\\local\\continuum\\anaconda3\\lib\\site-packages (from websocket-client)\n"
     ]
    },
    {
     "name": "stderr",
     "output_type": "stream",
     "text": [
      "You are using pip version 8.1.1, however version 20.0.2 is available.\n",
      "You should consider upgrading via the 'python -m pip install --upgrade pip' command.\n"
     ]
    },
    {
     "name": "stdout",
     "output_type": "stream",
     "text": [
      "Requirement already satisfied (use --upgrade to upgrade): requests in c:\\users\\mihir.rao\\appdata\\local\\continuum\\anaconda3\\lib\\site-packages\n"
     ]
    },
    {
     "name": "stderr",
     "output_type": "stream",
     "text": [
      "You are using pip version 8.1.1, however version 20.0.2 is available.\n",
      "You should consider upgrading via the 'python -m pip install --upgrade pip' command.\n"
     ]
    }
   ],
   "source": [
    "import sys\n",
    "\n",
    "import sys\n",
    "!{sys.executable} -m pip install upstox\n",
    "!{sys.executable} -m pip install future\n",
    "!{sys.executable} -m pip install websocket_client\n",
    "!{sys.executable} -m pip install requests\n",
    "\n"
   ]
  },
  {
   "cell_type": "code",
   "execution_count": 9,
   "metadata": {},
   "outputs": [
    {
     "name": "stdout",
     "output_type": "stream",
     "text": [
      "https://api.upstox.com/index/dialog/authorize?apiKey=your_api_key&response_type=code&redirect_uri=your_redirect_uri\n"
     ]
    },
    {
     "ename": "SystemError",
     "evalue": "{'message': 'Forbidden'}",
     "output_type": "error",
     "traceback": [
      "\u001b[1;31m---------------------------------------------------------------------------\u001b[0m",
      "\u001b[1;31mSystemError\u001b[0m                               Traceback (most recent call last)",
      "\u001b[1;32m<ipython-input-9-2f25c690d190>\u001b[0m in \u001b[0;36m<module>\u001b[1;34m()\u001b[0m\n\u001b[0;32m      5\u001b[0m \u001b[0mprint\u001b[0m \u001b[1;33m(\u001b[0m\u001b[0ms\u001b[0m\u001b[1;33m.\u001b[0m\u001b[0mget_login_url\u001b[0m\u001b[1;33m(\u001b[0m\u001b[1;33m)\u001b[0m\u001b[1;33m)\u001b[0m\u001b[1;33m\u001b[0m\u001b[0m\n\u001b[0;32m      6\u001b[0m \u001b[0ms\u001b[0m\u001b[1;33m.\u001b[0m\u001b[0mset_code\u001b[0m \u001b[1;33m(\u001b[0m\u001b[1;34m'your_code_from_login_response'\u001b[0m\u001b[1;33m)\u001b[0m\u001b[1;33m\u001b[0m\u001b[0m\n\u001b[1;32m----> 7\u001b[1;33m \u001b[0maccess_token\u001b[0m \u001b[1;33m=\u001b[0m \u001b[0ms\u001b[0m\u001b[1;33m.\u001b[0m\u001b[0mretrieve_access_token\u001b[0m\u001b[1;33m(\u001b[0m\u001b[1;33m)\u001b[0m\u001b[1;33m\u001b[0m\u001b[0m\n\u001b[0m\u001b[0;32m      8\u001b[0m \u001b[0mprint\u001b[0m \u001b[1;33m(\u001b[0m\u001b[1;34m'Received access_token: %s'\u001b[0m \u001b[1;33m%\u001b[0m \u001b[0maccess_token\u001b[0m\u001b[1;33m)\u001b[0m\u001b[1;33m\u001b[0m\u001b[0m\n",
      "\u001b[1;32mC:\\Users\\mihir.rao\\AppData\\Local\\Continuum\\Anaconda3\\lib\\site-packages\\upstox_api\\api.py\u001b[0m in \u001b[0;36mretrieve_access_token\u001b[1;34m(self)\u001b[0m\n\u001b[0;32m     92\u001b[0m         \u001b[0mbody\u001b[0m \u001b[1;33m=\u001b[0m \u001b[0mjson\u001b[0m\u001b[1;33m.\u001b[0m\u001b[0mloads\u001b[0m\u001b[1;33m(\u001b[0m\u001b[0mr\u001b[0m\u001b[1;33m.\u001b[0m\u001b[0mtext\u001b[0m\u001b[1;33m)\u001b[0m\u001b[1;33m\u001b[0m\u001b[0m\n\u001b[0;32m     93\u001b[0m         \u001b[1;32mif\u001b[0m \u001b[1;34m'access_token'\u001b[0m \u001b[1;32mnot\u001b[0m \u001b[1;32min\u001b[0m \u001b[0mbody\u001b[0m\u001b[1;33m:\u001b[0m\u001b[1;33m\u001b[0m\u001b[0m\n\u001b[1;32m---> 94\u001b[1;33m             \u001b[1;32mraise\u001b[0m \u001b[0mSystemError\u001b[0m\u001b[1;33m(\u001b[0m\u001b[0mbody\u001b[0m\u001b[1;33m)\u001b[0m\u001b[1;33m;\u001b[0m\u001b[1;33m\u001b[0m\u001b[0m\n\u001b[0m\u001b[0;32m     95\u001b[0m         \u001b[1;32mreturn\u001b[0m \u001b[0mbody\u001b[0m\u001b[1;33m\u001b[0m\u001b[0m\n\u001b[0;32m     96\u001b[0m \u001b[1;33m\u001b[0m\u001b[0m\n",
      "\u001b[1;31mSystemError\u001b[0m: {'message': 'Forbidden'}"
     ]
    }
   ],
   "source": [
    "from upstox_api.api import*\n",
    "s = Session ('your_api_key')\n",
    "s.set_redirect_uri ('your_redirect_uri')\n",
    "s.set_api_secret ('your_api_secret')\n",
    "print (s.get_login_url())\n",
    "s.set_code ('your_code_from_login_response') \n",
    "access_token = s.retrieve_access_token()\n",
    "print ('Received access_token: %s' % access_token)\n"
   ]
  },
  {
   "cell_type": "code",
   "execution_count": 13,
   "metadata": {
    "scrolled": true
   },
   "outputs": [
    {
     "name": "stderr",
     "output_type": "stream",
     "text": [
      "Traceback (most recent call last):\n",
      "  File \"c:\\users\\mihir.rao\\appdata\\local\\continuum\\anaconda3\\lib\\runpy.py\", line 170, in _run_module_as_main\n",
      "    \"__main__\", mod_spec)\n",
      "  File \"c:\\users\\mihir.rao\\appdata\\local\\continuum\\anaconda3\\lib\\runpy.py\", line 85, in _run_code\n",
      "    exec(code, run_globals)\n",
      "  File \"C:\\Users\\mihir.rao\\AppData\\Local\\Continuum\\Anaconda3\\Scripts\\pip.exe\\__main__.py\", line 9, in <module>\n",
      "  File \"c:\\users\\mihir.rao\\appdata\\local\\continuum\\anaconda3\\lib\\site-packages\\pip\\_internal\\cli\\main.py\", line 73, in main\n",
      "    command = create_command(cmd_name, isolated=(\"--isolated\" in cmd_args))\n",
      "  File \"c:\\users\\mihir.rao\\appdata\\local\\continuum\\anaconda3\\lib\\site-packages\\pip\\_internal\\commands\\__init__.py\", line 96, in create_command\n",
      "    module = importlib.import_module(module_path)\n",
      "  File \"c:\\users\\mihir.rao\\appdata\\local\\continuum\\anaconda3\\lib\\importlib\\__init__.py\", line 126, in import_module\n",
      "    return _bootstrap._gcd_import(name[level:], package, level)\n",
      "  File \"<frozen importlib._bootstrap>\", line 986, in _gcd_import\n",
      "  File \"<frozen importlib._bootstrap>\", line 969, in _find_and_load\n",
      "  File \"<frozen importlib._bootstrap>\", line 958, in _find_and_load_unlocked\n",
      "  File \"<frozen importlib._bootstrap>\", line 673, in _load_unlocked\n",
      "  File \"<frozen importlib._bootstrap_external>\", line 662, in exec_module\n",
      "  File \"<frozen importlib._bootstrap>\", line 222, in _call_with_frames_removed\n",
      "  File \"c:\\users\\mihir.rao\\appdata\\local\\continuum\\anaconda3\\lib\\site-packages\\pip\\_internal\\commands\\install.py\", line 24, in <module>\n",
      "    from pip._internal.cli.req_command import RequirementCommand\n",
      "  File \"c:\\users\\mihir.rao\\appdata\\local\\continuum\\anaconda3\\lib\\site-packages\\pip\\_internal\\cli\\req_command.py\", line 15, in <module>\n",
      "    from pip._internal.index.package_finder import PackageFinder\n",
      "  File \"c:\\users\\mihir.rao\\appdata\\local\\continuum\\anaconda3\\lib\\site-packages\\pip\\_internal\\index\\package_finder.py\", line 21, in <module>\n",
      "    from pip._internal.index.collector import parse_links\n",
      "  File \"c:\\users\\mihir.rao\\appdata\\local\\continuum\\anaconda3\\lib\\site-packages\\pip\\_internal\\index\\collector.py\", line 12, in <module>\n",
      "    from pip._vendor import html5lib, requests\n",
      "ImportError: cannot import name 'requests'\n"
     ]
    }
   ],
   "source": [
    "!pip install requests"
   ]
  },
  {
   "cell_type": "code",
   "execution_count": 8,
   "metadata": {},
   "outputs": [
    {
     "name": "stderr",
     "output_type": "stream",
     "text": [
      "Traceback (most recent call last):\n",
      "  File \"c:\\users\\mihir.rao\\appdata\\local\\continuum\\anaconda3\\lib\\runpy.py\", line 170, in _run_module_as_main\n",
      "    \"__main__\", mod_spec)\n",
      "  File \"c:\\users\\mihir.rao\\appdata\\local\\continuum\\anaconda3\\lib\\runpy.py\", line 85, in _run_code\n",
      "    exec(code, run_globals)\n",
      "  File \"C:\\Users\\mihir.rao\\AppData\\Local\\Continuum\\Anaconda3\\Scripts\\pip.exe\\__main__.py\", line 9, in <module>\n",
      "  File \"c:\\users\\mihir.rao\\appdata\\local\\continuum\\anaconda3\\lib\\site-packages\\pip\\_internal\\cli\\main.py\", line 73, in main\n",
      "    command = create_command(cmd_name, isolated=(\"--isolated\" in cmd_args))\n",
      "  File \"c:\\users\\mihir.rao\\appdata\\local\\continuum\\anaconda3\\lib\\site-packages\\pip\\_internal\\commands\\__init__.py\", line 96, in create_command\n",
      "    module = importlib.import_module(module_path)\n",
      "  File \"c:\\users\\mihir.rao\\appdata\\local\\continuum\\anaconda3\\lib\\importlib\\__init__.py\", line 126, in import_module\n",
      "    return _bootstrap._gcd_import(name[level:], package, level)\n",
      "  File \"<frozen importlib._bootstrap>\", line 986, in _gcd_import\n",
      "  File \"<frozen importlib._bootstrap>\", line 969, in _find_and_load\n",
      "  File \"<frozen importlib._bootstrap>\", line 958, in _find_and_load_unlocked\n",
      "  File \"<frozen importlib._bootstrap>\", line 673, in _load_unlocked\n",
      "  File \"<frozen importlib._bootstrap_external>\", line 662, in exec_module\n",
      "  File \"<frozen importlib._bootstrap>\", line 222, in _call_with_frames_removed\n",
      "  File \"c:\\users\\mihir.rao\\appdata\\local\\continuum\\anaconda3\\lib\\site-packages\\pip\\_internal\\commands\\install.py\", line 24, in <module>\n",
      "    from pip._internal.cli.req_command import RequirementCommand\n",
      "  File \"c:\\users\\mihir.rao\\appdata\\local\\continuum\\anaconda3\\lib\\site-packages\\pip\\_internal\\cli\\req_command.py\", line 15, in <module>\n",
      "    from pip._internal.index.package_finder import PackageFinder\n",
      "  File \"c:\\users\\mihir.rao\\appdata\\local\\continuum\\anaconda3\\lib\\site-packages\\pip\\_internal\\index\\package_finder.py\", line 21, in <module>\n",
      "    from pip._internal.index.collector import parse_links\n",
      "  File \"c:\\users\\mihir.rao\\appdata\\local\\continuum\\anaconda3\\lib\\site-packages\\pip\\_internal\\index\\collector.py\", line 12, in <module>\n",
      "    from pip._vendor import html5lib, requests\n",
      "ImportError: cannot import name 'requests'\n"
     ]
    }
   ],
   "source": [
    "!pip install numpy"
   ]
  },
  {
   "cell_type": "code",
   "execution_count": 3,
   "metadata": {},
   "outputs": [
    {
     "name": "stdout",
     "output_type": "stream",
     "text": [
      "Collecting numexpr\n",
      "  Using cached numexpr-2.7.1-cp35-none-win_amd64.whl (90 kB)\n",
      "Requirement already satisfied, skipping upgrade: numpy>=1.7 in c:\\users\\mihir.rao\\appdata\\local\\continuum\\anaconda3\\lib\\site-packages (from numexpr) (1.18.3)\n",
      "Installing collected packages: numexpr\n",
      "Successfully installed numexpr-2.7.1\n"
     ]
    }
   ],
   "source": [
    "!pip install --upgrade numexpr"
   ]
  },
  {
   "cell_type": "code",
   "execution_count": 1,
   "metadata": {},
   "outputs": [
    {
     "ename": "ModuleNotFoundError",
     "evalue": "No module named 'yfinance'",
     "output_type": "error",
     "traceback": [
      "\u001b[1;31m---------------------------------------------------------------------------\u001b[0m",
      "\u001b[1;31mModuleNotFoundError\u001b[0m                       Traceback (most recent call last)",
      "\u001b[1;32m<ipython-input-1-7335f9ba7ef7>\u001b[0m in \u001b[0;36m<module>\u001b[1;34m\u001b[0m\n\u001b[1;32m----> 1\u001b[1;33m \u001b[1;32mimport\u001b[0m \u001b[0myfinance\u001b[0m \u001b[1;32mas\u001b[0m \u001b[0myf\u001b[0m\u001b[1;33m\u001b[0m\u001b[1;33m\u001b[0m\u001b[0m\n\u001b[0m\u001b[0;32m      2\u001b[0m \u001b[1;32mglobal\u001b[0m \u001b[0maxis\u001b[0m\u001b[1;33m\u001b[0m\u001b[1;33m\u001b[0m\u001b[0m\n\u001b[0;32m      3\u001b[0m \u001b[1;33m\u001b[0m\u001b[0m\n\u001b[0;32m      4\u001b[0m \u001b[0maxis\u001b[0m\u001b[1;33m=\u001b[0m\u001b[0myf\u001b[0m\u001b[1;33m.\u001b[0m\u001b[0mTicker\u001b[0m\u001b[1;33m(\u001b[0m\u001b[1;34m'UPL.NS'\u001b[0m\u001b[1;33m)\u001b[0m\u001b[1;33m\u001b[0m\u001b[1;33m\u001b[0m\u001b[0m\n\u001b[0;32m      5\u001b[0m \u001b[0maxis\u001b[0m\u001b[1;33m.\u001b[0m\u001b[0minfo\u001b[0m\u001b[1;33m\u001b[0m\u001b[1;33m\u001b[0m\u001b[0m\n",
      "\u001b[1;31mModuleNotFoundError\u001b[0m: No module named 'yfinance'"
     ]
    }
   ],
   "source": [
    "import yfinance as yf\n",
    "global axis\n",
    "\n",
    "axis=yf.Ticker('UPL.NS')\n",
    "axis.info\n"
   ]
  },
  {
   "cell_type": "code",
   "execution_count": 69,
   "metadata": {},
   "outputs": [
    {
     "name": "stdout",
     "output_type": "stream",
     "text": [
      "None\n"
     ]
    },
    {
     "data": {
      "text/html": [
       "<div>\n",
       "<style scoped>\n",
       "    .dataframe tbody tr th:only-of-type {\n",
       "        vertical-align: middle;\n",
       "    }\n",
       "\n",
       "    .dataframe tbody tr th {\n",
       "        vertical-align: top;\n",
       "    }\n",
       "\n",
       "    .dataframe thead th {\n",
       "        text-align: right;\n",
       "    }\n",
       "</style>\n",
       "<table border=\"1\" class=\"dataframe\">\n",
       "  <thead>\n",
       "    <tr style=\"text-align: right;\">\n",
       "      <th></th>\n",
       "      <th>Adj Close</th>\n",
       "      <th>Close</th>\n",
       "      <th>High</th>\n",
       "      <th>Low</th>\n",
       "      <th>Open</th>\n",
       "      <th>Volume</th>\n",
       "    </tr>\n",
       "    <tr>\n",
       "      <th>Date</th>\n",
       "      <th></th>\n",
       "      <th></th>\n",
       "      <th></th>\n",
       "      <th></th>\n",
       "      <th></th>\n",
       "      <th></th>\n",
       "    </tr>\n",
       "  </thead>\n",
       "  <tbody>\n",
       "  </tbody>\n",
       "</table>\n",
       "</div>"
      ],
      "text/plain": [
       "Empty DataFrame\n",
       "Columns: [Adj Close, Close, High, Low, Open, Volume]\n",
       "Index: []"
      ]
     },
     "execution_count": 69,
     "metadata": {},
     "output_type": "execute_result"
    }
   ],
   "source": [
    "import matplotlib.pyplot as mat\n",
    "%matplotlib inline\n",
    "axis.info### getting info of Axis Bank\n",
    "#plotting=axis.history(period='max')\n",
    "#plotting['Date']= plotting.index\n",
    "#mat.plot(plotting['Date'],plotting['Close'])*/\n",
    "axis.actions## idea of splits and dividends\n",
    "#axis.major_holder## get the diea abt holders\n",
    "print(axis.recommendations)## Get recommendations\n",
    "axis.cashflow\n",
    "#axis.option_chain('2020-04-30')\n",
    "\n"
   ]
  },
  {
   "cell_type": "code",
   "execution_count": 133,
   "metadata": {},
   "outputs": [
    {
     "name": "stdout",
     "output_type": "stream",
     "text": [
      "[*********************100%***********************]  1 of 1 completed\n"
     ]
    },
    {
     "data": {
      "text/html": [
       "<div>\n",
       "<style scoped>\n",
       "    .dataframe tbody tr th:only-of-type {\n",
       "        vertical-align: middle;\n",
       "    }\n",
       "\n",
       "    .dataframe tbody tr th {\n",
       "        vertical-align: top;\n",
       "    }\n",
       "\n",
       "    .dataframe thead th {\n",
       "        text-align: right;\n",
       "    }\n",
       "</style>\n",
       "<table border=\"1\" class=\"dataframe\">\n",
       "  <thead>\n",
       "    <tr style=\"text-align: right;\">\n",
       "      <th></th>\n",
       "      <th>Adj Close</th>\n",
       "      <th>Close</th>\n",
       "      <th>High</th>\n",
       "      <th>Low</th>\n",
       "      <th>Open</th>\n",
       "      <th>Volume</th>\n",
       "      <th>Datetime</th>\n",
       "      <th>Date</th>\n",
       "      <th>TIme</th>\n",
       "    </tr>\n",
       "    <tr>\n",
       "      <th>Datetime</th>\n",
       "      <th></th>\n",
       "      <th></th>\n",
       "      <th></th>\n",
       "      <th></th>\n",
       "      <th></th>\n",
       "      <th></th>\n",
       "      <th></th>\n",
       "      <th></th>\n",
       "      <th></th>\n",
       "    </tr>\n",
       "  </thead>\n",
       "  <tbody>\n",
       "    <tr>\n",
       "      <th>2020-04-01 09:15:00+05:30</th>\n",
       "      <td>378.549988</td>\n",
       "      <td>378.549988</td>\n",
       "      <td>379.549988</td>\n",
       "      <td>372.649994</td>\n",
       "      <td>376.299988</td>\n",
       "      <td>1227100</td>\n",
       "      <td>2020-04-01 09:15:00+05:30</td>\n",
       "      <td>2020-04-01</td>\n",
       "      <td>09:15:00</td>\n",
       "    </tr>\n",
       "    <tr>\n",
       "      <th>2020-04-01 09:30:00+05:30</th>\n",
       "      <td>374.899994</td>\n",
       "      <td>374.899994</td>\n",
       "      <td>378.899994</td>\n",
       "      <td>374.500000</td>\n",
       "      <td>378.750000</td>\n",
       "      <td>1202752</td>\n",
       "      <td>2020-04-01 09:30:00+05:30</td>\n",
       "      <td>2020-04-01</td>\n",
       "      <td>09:30:00</td>\n",
       "    </tr>\n",
       "    <tr>\n",
       "      <th>2020-04-01 09:45:00+05:30</th>\n",
       "      <td>375.049988</td>\n",
       "      <td>375.049988</td>\n",
       "      <td>376.600006</td>\n",
       "      <td>374.100006</td>\n",
       "      <td>374.899994</td>\n",
       "      <td>1002448</td>\n",
       "      <td>2020-04-01 09:45:00+05:30</td>\n",
       "      <td>2020-04-01</td>\n",
       "      <td>09:45:00</td>\n",
       "    </tr>\n",
       "    <tr>\n",
       "      <th>2020-04-01 10:00:00+05:30</th>\n",
       "      <td>372.149994</td>\n",
       "      <td>372.149994</td>\n",
       "      <td>375.600006</td>\n",
       "      <td>371.000000</td>\n",
       "      <td>375.250000</td>\n",
       "      <td>1401169</td>\n",
       "      <td>2020-04-01 10:00:00+05:30</td>\n",
       "      <td>2020-04-01</td>\n",
       "      <td>10:00:00</td>\n",
       "    </tr>\n",
       "    <tr>\n",
       "      <th>2020-04-01 10:15:00+05:30</th>\n",
       "      <td>373.100006</td>\n",
       "      <td>373.100006</td>\n",
       "      <td>375.000000</td>\n",
       "      <td>372.049988</td>\n",
       "      <td>372.149994</td>\n",
       "      <td>947418</td>\n",
       "      <td>2020-04-01 10:15:00+05:30</td>\n",
       "      <td>2020-04-01</td>\n",
       "      <td>10:15:00</td>\n",
       "    </tr>\n",
       "  </tbody>\n",
       "</table>\n",
       "</div>"
      ],
      "text/plain": [
       "                            Adj Close       Close        High         Low  \\\n",
       "Datetime                                                                    \n",
       "2020-04-01 09:15:00+05:30  378.549988  378.549988  379.549988  372.649994   \n",
       "2020-04-01 09:30:00+05:30  374.899994  374.899994  378.899994  374.500000   \n",
       "2020-04-01 09:45:00+05:30  375.049988  375.049988  376.600006  374.100006   \n",
       "2020-04-01 10:00:00+05:30  372.149994  372.149994  375.600006  371.000000   \n",
       "2020-04-01 10:15:00+05:30  373.100006  373.100006  375.000000  372.049988   \n",
       "\n",
       "                                 Open   Volume                  Datetime  \\\n",
       "Datetime                                                                   \n",
       "2020-04-01 09:15:00+05:30  376.299988  1227100 2020-04-01 09:15:00+05:30   \n",
       "2020-04-01 09:30:00+05:30  378.750000  1202752 2020-04-01 09:30:00+05:30   \n",
       "2020-04-01 09:45:00+05:30  374.899994  1002448 2020-04-01 09:45:00+05:30   \n",
       "2020-04-01 10:00:00+05:30  375.250000  1401169 2020-04-01 10:00:00+05:30   \n",
       "2020-04-01 10:15:00+05:30  372.149994   947418 2020-04-01 10:15:00+05:30   \n",
       "\n",
       "                                 Date      TIme  \n",
       "Datetime                                         \n",
       "2020-04-01 09:15:00+05:30  2020-04-01  09:15:00  \n",
       "2020-04-01 09:30:00+05:30  2020-04-01  09:30:00  \n",
       "2020-04-01 09:45:00+05:30  2020-04-01  09:45:00  \n",
       "2020-04-01 10:00:00+05:30  2020-04-01  10:00:00  \n",
       "2020-04-01 10:15:00+05:30  2020-04-01  10:15:00  "
      ]
     },
     "execution_count": 133,
     "metadata": {},
     "output_type": "execute_result"
    }
   ],
   "source": [
    "\n",
    "### Downlaoding data for cusotm time period and frame\n",
    "import yfinance as yf\n",
    "import pandas as pd\n",
    "MK=yf.download('AXISBANK.NS',start='2020-04-01',end='2020-04-20',interval=\"15m\")\n",
    "MK['Datetime']=MK.index\n",
    "MK['Date']=[d.date() for d in MK['Datetime']]\n",
    "MK['TIme']=[d.time() for d in MK['Datetime']]\n",
    "MK.head()\n",
    " \n",
    "    \n",
    "    \n",
    "    \n",
    "        \n",
    "        "
   ]
  },
  {
   "cell_type": "code",
   "execution_count": 2,
   "metadata": {},
   "outputs": [
    {
     "data": {
      "text/plain": [
       "'UPL.NS'"
      ]
     },
     "execution_count": 2,
     "metadata": {},
     "output_type": "execute_result"
    }
   ],
   "source": [
    "global stock\n",
    "stock='UPL.NS'\n",
    "stock"
   ]
  },
  {
   "cell_type": "code",
   "execution_count": 5,
   "metadata": {},
   "outputs": [
    {
     "ename": "URLError",
     "evalue": "<urlopen error [WinError 10060] A connection attempt failed because the connected party did not properly respond after a period of time, or established connection failed because connected host has failed to respond>",
     "output_type": "error",
     "traceback": [
      "\u001b[1;31m---------------------------------------------------------------------------\u001b[0m",
      "\u001b[1;31mTimeoutError\u001b[0m                              Traceback (most recent call last)",
      "\u001b[1;32m~\\Anaconda3\\lib\\urllib\\request.py\u001b[0m in \u001b[0;36mdo_open\u001b[1;34m(self, http_class, req, **http_conn_args)\u001b[0m\n\u001b[0;32m   1318\u001b[0m                 h.request(req.get_method(), req.selector, req.data, headers,\n\u001b[1;32m-> 1319\u001b[1;33m                           encode_chunked=req.has_header('Transfer-encoding'))\n\u001b[0m\u001b[0;32m   1320\u001b[0m             \u001b[1;32mexcept\u001b[0m \u001b[0mOSError\u001b[0m \u001b[1;32mas\u001b[0m \u001b[0merr\u001b[0m\u001b[1;33m:\u001b[0m \u001b[1;31m# timeout error\u001b[0m\u001b[1;33m\u001b[0m\u001b[1;33m\u001b[0m\u001b[0m\n",
      "\u001b[1;32m~\\Anaconda3\\lib\\http\\client.py\u001b[0m in \u001b[0;36mrequest\u001b[1;34m(self, method, url, body, headers, encode_chunked)\u001b[0m\n\u001b[0;32m   1251\u001b[0m         \u001b[1;34m\"\"\"Send a complete request to the server.\"\"\"\u001b[0m\u001b[1;33m\u001b[0m\u001b[1;33m\u001b[0m\u001b[0m\n\u001b[1;32m-> 1252\u001b[1;33m         \u001b[0mself\u001b[0m\u001b[1;33m.\u001b[0m\u001b[0m_send_request\u001b[0m\u001b[1;33m(\u001b[0m\u001b[0mmethod\u001b[0m\u001b[1;33m,\u001b[0m \u001b[0murl\u001b[0m\u001b[1;33m,\u001b[0m \u001b[0mbody\u001b[0m\u001b[1;33m,\u001b[0m \u001b[0mheaders\u001b[0m\u001b[1;33m,\u001b[0m \u001b[0mencode_chunked\u001b[0m\u001b[1;33m)\u001b[0m\u001b[1;33m\u001b[0m\u001b[1;33m\u001b[0m\u001b[0m\n\u001b[0m\u001b[0;32m   1253\u001b[0m \u001b[1;33m\u001b[0m\u001b[0m\n",
      "\u001b[1;32m~\\Anaconda3\\lib\\http\\client.py\u001b[0m in \u001b[0;36m_send_request\u001b[1;34m(self, method, url, body, headers, encode_chunked)\u001b[0m\n\u001b[0;32m   1297\u001b[0m             \u001b[0mbody\u001b[0m \u001b[1;33m=\u001b[0m \u001b[0m_encode\u001b[0m\u001b[1;33m(\u001b[0m\u001b[0mbody\u001b[0m\u001b[1;33m,\u001b[0m \u001b[1;34m'body'\u001b[0m\u001b[1;33m)\u001b[0m\u001b[1;33m\u001b[0m\u001b[1;33m\u001b[0m\u001b[0m\n\u001b[1;32m-> 1298\u001b[1;33m         \u001b[0mself\u001b[0m\u001b[1;33m.\u001b[0m\u001b[0mendheaders\u001b[0m\u001b[1;33m(\u001b[0m\u001b[0mbody\u001b[0m\u001b[1;33m,\u001b[0m \u001b[0mencode_chunked\u001b[0m\u001b[1;33m=\u001b[0m\u001b[0mencode_chunked\u001b[0m\u001b[1;33m)\u001b[0m\u001b[1;33m\u001b[0m\u001b[1;33m\u001b[0m\u001b[0m\n\u001b[0m\u001b[0;32m   1299\u001b[0m \u001b[1;33m\u001b[0m\u001b[0m\n",
      "\u001b[1;32m~\\Anaconda3\\lib\\http\\client.py\u001b[0m in \u001b[0;36mendheaders\u001b[1;34m(self, message_body, encode_chunked)\u001b[0m\n\u001b[0;32m   1246\u001b[0m             \u001b[1;32mraise\u001b[0m \u001b[0mCannotSendHeader\u001b[0m\u001b[1;33m(\u001b[0m\u001b[1;33m)\u001b[0m\u001b[1;33m\u001b[0m\u001b[1;33m\u001b[0m\u001b[0m\n\u001b[1;32m-> 1247\u001b[1;33m         \u001b[0mself\u001b[0m\u001b[1;33m.\u001b[0m\u001b[0m_send_output\u001b[0m\u001b[1;33m(\u001b[0m\u001b[0mmessage_body\u001b[0m\u001b[1;33m,\u001b[0m \u001b[0mencode_chunked\u001b[0m\u001b[1;33m=\u001b[0m\u001b[0mencode_chunked\u001b[0m\u001b[1;33m)\u001b[0m\u001b[1;33m\u001b[0m\u001b[1;33m\u001b[0m\u001b[0m\n\u001b[0m\u001b[0;32m   1248\u001b[0m \u001b[1;33m\u001b[0m\u001b[0m\n",
      "\u001b[1;32m~\\Anaconda3\\lib\\http\\client.py\u001b[0m in \u001b[0;36m_send_output\u001b[1;34m(self, message_body, encode_chunked)\u001b[0m\n\u001b[0;32m   1025\u001b[0m         \u001b[1;32mdel\u001b[0m \u001b[0mself\u001b[0m\u001b[1;33m.\u001b[0m\u001b[0m_buffer\u001b[0m\u001b[1;33m[\u001b[0m\u001b[1;33m:\u001b[0m\u001b[1;33m]\u001b[0m\u001b[1;33m\u001b[0m\u001b[1;33m\u001b[0m\u001b[0m\n\u001b[1;32m-> 1026\u001b[1;33m         \u001b[0mself\u001b[0m\u001b[1;33m.\u001b[0m\u001b[0msend\u001b[0m\u001b[1;33m(\u001b[0m\u001b[0mmsg\u001b[0m\u001b[1;33m)\u001b[0m\u001b[1;33m\u001b[0m\u001b[1;33m\u001b[0m\u001b[0m\n\u001b[0m\u001b[0;32m   1027\u001b[0m \u001b[1;33m\u001b[0m\u001b[0m\n",
      "\u001b[1;32m~\\Anaconda3\\lib\\http\\client.py\u001b[0m in \u001b[0;36msend\u001b[1;34m(self, data)\u001b[0m\n\u001b[0;32m    965\u001b[0m             \u001b[1;32mif\u001b[0m \u001b[0mself\u001b[0m\u001b[1;33m.\u001b[0m\u001b[0mauto_open\u001b[0m\u001b[1;33m:\u001b[0m\u001b[1;33m\u001b[0m\u001b[1;33m\u001b[0m\u001b[0m\n\u001b[1;32m--> 966\u001b[1;33m                 \u001b[0mself\u001b[0m\u001b[1;33m.\u001b[0m\u001b[0mconnect\u001b[0m\u001b[1;33m(\u001b[0m\u001b[1;33m)\u001b[0m\u001b[1;33m\u001b[0m\u001b[1;33m\u001b[0m\u001b[0m\n\u001b[0m\u001b[0;32m    967\u001b[0m             \u001b[1;32melse\u001b[0m\u001b[1;33m:\u001b[0m\u001b[1;33m\u001b[0m\u001b[1;33m\u001b[0m\u001b[0m\n",
      "\u001b[1;32m~\\Anaconda3\\lib\\http\\client.py\u001b[0m in \u001b[0;36mconnect\u001b[1;34m(self)\u001b[0m\n\u001b[0;32m   1413\u001b[0m \u001b[1;33m\u001b[0m\u001b[0m\n\u001b[1;32m-> 1414\u001b[1;33m             \u001b[0msuper\u001b[0m\u001b[1;33m(\u001b[0m\u001b[1;33m)\u001b[0m\u001b[1;33m.\u001b[0m\u001b[0mconnect\u001b[0m\u001b[1;33m(\u001b[0m\u001b[1;33m)\u001b[0m\u001b[1;33m\u001b[0m\u001b[1;33m\u001b[0m\u001b[0m\n\u001b[0m\u001b[0;32m   1415\u001b[0m \u001b[1;33m\u001b[0m\u001b[0m\n",
      "\u001b[1;32m~\\Anaconda3\\lib\\http\\client.py\u001b[0m in \u001b[0;36mconnect\u001b[1;34m(self)\u001b[0m\n\u001b[0;32m    937\u001b[0m         self.sock = self._create_connection(\n\u001b[1;32m--> 938\u001b[1;33m             (self.host,self.port), self.timeout, self.source_address)\n\u001b[0m\u001b[0;32m    939\u001b[0m         \u001b[0mself\u001b[0m\u001b[1;33m.\u001b[0m\u001b[0msock\u001b[0m\u001b[1;33m.\u001b[0m\u001b[0msetsockopt\u001b[0m\u001b[1;33m(\u001b[0m\u001b[0msocket\u001b[0m\u001b[1;33m.\u001b[0m\u001b[0mIPPROTO_TCP\u001b[0m\u001b[1;33m,\u001b[0m \u001b[0msocket\u001b[0m\u001b[1;33m.\u001b[0m\u001b[0mTCP_NODELAY\u001b[0m\u001b[1;33m,\u001b[0m \u001b[1;36m1\u001b[0m\u001b[1;33m)\u001b[0m\u001b[1;33m\u001b[0m\u001b[1;33m\u001b[0m\u001b[0m\n",
      "\u001b[1;32m~\\Anaconda3\\lib\\socket.py\u001b[0m in \u001b[0;36mcreate_connection\u001b[1;34m(address, timeout, source_address)\u001b[0m\n\u001b[0;32m    727\u001b[0m         \u001b[1;32mtry\u001b[0m\u001b[1;33m:\u001b[0m\u001b[1;33m\u001b[0m\u001b[1;33m\u001b[0m\u001b[0m\n\u001b[1;32m--> 728\u001b[1;33m             \u001b[1;32mraise\u001b[0m \u001b[0merr\u001b[0m\u001b[1;33m\u001b[0m\u001b[1;33m\u001b[0m\u001b[0m\n\u001b[0m\u001b[0;32m    729\u001b[0m         \u001b[1;32mfinally\u001b[0m\u001b[1;33m:\u001b[0m\u001b[1;33m\u001b[0m\u001b[1;33m\u001b[0m\u001b[0m\n",
      "\u001b[1;32m~\\Anaconda3\\lib\\socket.py\u001b[0m in \u001b[0;36mcreate_connection\u001b[1;34m(address, timeout, source_address)\u001b[0m\n\u001b[0;32m    715\u001b[0m                 \u001b[0msock\u001b[0m\u001b[1;33m.\u001b[0m\u001b[0mbind\u001b[0m\u001b[1;33m(\u001b[0m\u001b[0msource_address\u001b[0m\u001b[1;33m)\u001b[0m\u001b[1;33m\u001b[0m\u001b[1;33m\u001b[0m\u001b[0m\n\u001b[1;32m--> 716\u001b[1;33m             \u001b[0msock\u001b[0m\u001b[1;33m.\u001b[0m\u001b[0mconnect\u001b[0m\u001b[1;33m(\u001b[0m\u001b[0msa\u001b[0m\u001b[1;33m)\u001b[0m\u001b[1;33m\u001b[0m\u001b[1;33m\u001b[0m\u001b[0m\n\u001b[0m\u001b[0;32m    717\u001b[0m             \u001b[1;31m# Break explicitly a reference cycle\u001b[0m\u001b[1;33m\u001b[0m\u001b[1;33m\u001b[0m\u001b[1;33m\u001b[0m\u001b[0m\n",
      "\u001b[1;31mTimeoutError\u001b[0m: [WinError 10060] A connection attempt failed because the connected party did not properly respond after a period of time, or established connection failed because connected host has failed to respond",
      "\nDuring handling of the above exception, another exception occurred:\n",
      "\u001b[1;31mURLError\u001b[0m                                  Traceback (most recent call last)",
      "\u001b[1;32m<ipython-input-5-1f2624637f9b>\u001b[0m in \u001b[0;36m<module>\u001b[1;34m\u001b[0m\n\u001b[0;32m      9\u001b[0m \u001b[0murl_bs\u001b[0m\u001b[1;33m\u001b[0m\u001b[1;33m\u001b[0m\u001b[0m\n\u001b[0;32m     10\u001b[0m \u001b[1;31m#url_cf = ‘https://finance.yahoo.com/quote/' + index + ‘/cash-flow?p=’+ index\u001b[0m\u001b[1;33m\u001b[0m\u001b[1;33m\u001b[0m\u001b[1;33m\u001b[0m\u001b[0m\n\u001b[1;32m---> 11\u001b[1;33m \u001b[0mread_data\u001b[0m \u001b[1;33m=\u001b[0m \u001b[0mur\u001b[0m\u001b[1;33m.\u001b[0m\u001b[0murlopen\u001b[0m\u001b[1;33m(\u001b[0m\u001b[0murl_is_ind\u001b[0m\u001b[1;33m)\u001b[0m\u001b[1;33m.\u001b[0m\u001b[0mread\u001b[0m\u001b[1;33m(\u001b[0m\u001b[1;33m)\u001b[0m\u001b[1;33m\u001b[0m\u001b[1;33m\u001b[0m\u001b[0m\n\u001b[0m\u001b[0;32m     12\u001b[0m \u001b[0msoup_is\u001b[0m\u001b[1;33m=\u001b[0m \u001b[0mBeautifulSoup\u001b[0m\u001b[1;33m(\u001b[0m\u001b[0mread_data\u001b[0m\u001b[1;33m,\u001b[0m\u001b[1;34m\"lxml\"\u001b[0m\u001b[1;33m)\u001b[0m\u001b[1;33m\u001b[0m\u001b[1;33m\u001b[0m\u001b[0m\n\u001b[0;32m     13\u001b[0m \u001b[0mls\u001b[0m\u001b[1;33m=\u001b[0m \u001b[1;33m[\u001b[0m\u001b[1;33m]\u001b[0m \u001b[1;31m# Create empty list\u001b[0m\u001b[1;33m\u001b[0m\u001b[1;33m\u001b[0m\u001b[0m\n",
      "\u001b[1;32m~\\Anaconda3\\lib\\urllib\\request.py\u001b[0m in \u001b[0;36murlopen\u001b[1;34m(url, data, timeout, cafile, capath, cadefault, context)\u001b[0m\n\u001b[0;32m    220\u001b[0m     \u001b[1;32melse\u001b[0m\u001b[1;33m:\u001b[0m\u001b[1;33m\u001b[0m\u001b[1;33m\u001b[0m\u001b[0m\n\u001b[0;32m    221\u001b[0m         \u001b[0mopener\u001b[0m \u001b[1;33m=\u001b[0m \u001b[0m_opener\u001b[0m\u001b[1;33m\u001b[0m\u001b[1;33m\u001b[0m\u001b[0m\n\u001b[1;32m--> 222\u001b[1;33m     \u001b[1;32mreturn\u001b[0m \u001b[0mopener\u001b[0m\u001b[1;33m.\u001b[0m\u001b[0mopen\u001b[0m\u001b[1;33m(\u001b[0m\u001b[0murl\u001b[0m\u001b[1;33m,\u001b[0m \u001b[0mdata\u001b[0m\u001b[1;33m,\u001b[0m \u001b[0mtimeout\u001b[0m\u001b[1;33m)\u001b[0m\u001b[1;33m\u001b[0m\u001b[1;33m\u001b[0m\u001b[0m\n\u001b[0m\u001b[0;32m    223\u001b[0m \u001b[1;33m\u001b[0m\u001b[0m\n\u001b[0;32m    224\u001b[0m \u001b[1;32mdef\u001b[0m \u001b[0minstall_opener\u001b[0m\u001b[1;33m(\u001b[0m\u001b[0mopener\u001b[0m\u001b[1;33m)\u001b[0m\u001b[1;33m:\u001b[0m\u001b[1;33m\u001b[0m\u001b[1;33m\u001b[0m\u001b[0m\n",
      "\u001b[1;32m~\\Anaconda3\\lib\\urllib\\request.py\u001b[0m in \u001b[0;36mopen\u001b[1;34m(self, fullurl, data, timeout)\u001b[0m\n\u001b[0;32m    523\u001b[0m             \u001b[0mreq\u001b[0m \u001b[1;33m=\u001b[0m \u001b[0mmeth\u001b[0m\u001b[1;33m(\u001b[0m\u001b[0mreq\u001b[0m\u001b[1;33m)\u001b[0m\u001b[1;33m\u001b[0m\u001b[1;33m\u001b[0m\u001b[0m\n\u001b[0;32m    524\u001b[0m \u001b[1;33m\u001b[0m\u001b[0m\n\u001b[1;32m--> 525\u001b[1;33m         \u001b[0mresponse\u001b[0m \u001b[1;33m=\u001b[0m \u001b[0mself\u001b[0m\u001b[1;33m.\u001b[0m\u001b[0m_open\u001b[0m\u001b[1;33m(\u001b[0m\u001b[0mreq\u001b[0m\u001b[1;33m,\u001b[0m \u001b[0mdata\u001b[0m\u001b[1;33m)\u001b[0m\u001b[1;33m\u001b[0m\u001b[1;33m\u001b[0m\u001b[0m\n\u001b[0m\u001b[0;32m    526\u001b[0m \u001b[1;33m\u001b[0m\u001b[0m\n\u001b[0;32m    527\u001b[0m         \u001b[1;31m# post-process response\u001b[0m\u001b[1;33m\u001b[0m\u001b[1;33m\u001b[0m\u001b[1;33m\u001b[0m\u001b[0m\n",
      "\u001b[1;32m~\\Anaconda3\\lib\\urllib\\request.py\u001b[0m in \u001b[0;36m_open\u001b[1;34m(self, req, data)\u001b[0m\n\u001b[0;32m    541\u001b[0m         \u001b[0mprotocol\u001b[0m \u001b[1;33m=\u001b[0m \u001b[0mreq\u001b[0m\u001b[1;33m.\u001b[0m\u001b[0mtype\u001b[0m\u001b[1;33m\u001b[0m\u001b[1;33m\u001b[0m\u001b[0m\n\u001b[0;32m    542\u001b[0m         result = self._call_chain(self.handle_open, protocol, protocol +\n\u001b[1;32m--> 543\u001b[1;33m                                   '_open', req)\n\u001b[0m\u001b[0;32m    544\u001b[0m         \u001b[1;32mif\u001b[0m \u001b[0mresult\u001b[0m\u001b[1;33m:\u001b[0m\u001b[1;33m\u001b[0m\u001b[1;33m\u001b[0m\u001b[0m\n\u001b[0;32m    545\u001b[0m             \u001b[1;32mreturn\u001b[0m \u001b[0mresult\u001b[0m\u001b[1;33m\u001b[0m\u001b[1;33m\u001b[0m\u001b[0m\n",
      "\u001b[1;32m~\\Anaconda3\\lib\\urllib\\request.py\u001b[0m in \u001b[0;36m_call_chain\u001b[1;34m(self, chain, kind, meth_name, *args)\u001b[0m\n\u001b[0;32m    501\u001b[0m         \u001b[1;32mfor\u001b[0m \u001b[0mhandler\u001b[0m \u001b[1;32min\u001b[0m \u001b[0mhandlers\u001b[0m\u001b[1;33m:\u001b[0m\u001b[1;33m\u001b[0m\u001b[1;33m\u001b[0m\u001b[0m\n\u001b[0;32m    502\u001b[0m             \u001b[0mfunc\u001b[0m \u001b[1;33m=\u001b[0m \u001b[0mgetattr\u001b[0m\u001b[1;33m(\u001b[0m\u001b[0mhandler\u001b[0m\u001b[1;33m,\u001b[0m \u001b[0mmeth_name\u001b[0m\u001b[1;33m)\u001b[0m\u001b[1;33m\u001b[0m\u001b[1;33m\u001b[0m\u001b[0m\n\u001b[1;32m--> 503\u001b[1;33m             \u001b[0mresult\u001b[0m \u001b[1;33m=\u001b[0m \u001b[0mfunc\u001b[0m\u001b[1;33m(\u001b[0m\u001b[1;33m*\u001b[0m\u001b[0margs\u001b[0m\u001b[1;33m)\u001b[0m\u001b[1;33m\u001b[0m\u001b[1;33m\u001b[0m\u001b[0m\n\u001b[0m\u001b[0;32m    504\u001b[0m             \u001b[1;32mif\u001b[0m \u001b[0mresult\u001b[0m \u001b[1;32mis\u001b[0m \u001b[1;32mnot\u001b[0m \u001b[1;32mNone\u001b[0m\u001b[1;33m:\u001b[0m\u001b[1;33m\u001b[0m\u001b[1;33m\u001b[0m\u001b[0m\n\u001b[0;32m    505\u001b[0m                 \u001b[1;32mreturn\u001b[0m \u001b[0mresult\u001b[0m\u001b[1;33m\u001b[0m\u001b[1;33m\u001b[0m\u001b[0m\n",
      "\u001b[1;32m~\\Anaconda3\\lib\\urllib\\request.py\u001b[0m in \u001b[0;36mhttps_open\u001b[1;34m(self, req)\u001b[0m\n\u001b[0;32m   1360\u001b[0m         \u001b[1;32mdef\u001b[0m \u001b[0mhttps_open\u001b[0m\u001b[1;33m(\u001b[0m\u001b[0mself\u001b[0m\u001b[1;33m,\u001b[0m \u001b[0mreq\u001b[0m\u001b[1;33m)\u001b[0m\u001b[1;33m:\u001b[0m\u001b[1;33m\u001b[0m\u001b[1;33m\u001b[0m\u001b[0m\n\u001b[0;32m   1361\u001b[0m             return self.do_open(http.client.HTTPSConnection, req,\n\u001b[1;32m-> 1362\u001b[1;33m                 context=self._context, check_hostname=self._check_hostname)\n\u001b[0m\u001b[0;32m   1363\u001b[0m \u001b[1;33m\u001b[0m\u001b[0m\n\u001b[0;32m   1364\u001b[0m         \u001b[0mhttps_request\u001b[0m \u001b[1;33m=\u001b[0m \u001b[0mAbstractHTTPHandler\u001b[0m\u001b[1;33m.\u001b[0m\u001b[0mdo_request_\u001b[0m\u001b[1;33m\u001b[0m\u001b[1;33m\u001b[0m\u001b[0m\n",
      "\u001b[1;32m~\\Anaconda3\\lib\\urllib\\request.py\u001b[0m in \u001b[0;36mdo_open\u001b[1;34m(self, http_class, req, **http_conn_args)\u001b[0m\n\u001b[0;32m   1319\u001b[0m                           encode_chunked=req.has_header('Transfer-encoding'))\n\u001b[0;32m   1320\u001b[0m             \u001b[1;32mexcept\u001b[0m \u001b[0mOSError\u001b[0m \u001b[1;32mas\u001b[0m \u001b[0merr\u001b[0m\u001b[1;33m:\u001b[0m \u001b[1;31m# timeout error\u001b[0m\u001b[1;33m\u001b[0m\u001b[1;33m\u001b[0m\u001b[0m\n\u001b[1;32m-> 1321\u001b[1;33m                 \u001b[1;32mraise\u001b[0m \u001b[0mURLError\u001b[0m\u001b[1;33m(\u001b[0m\u001b[0merr\u001b[0m\u001b[1;33m)\u001b[0m\u001b[1;33m\u001b[0m\u001b[1;33m\u001b[0m\u001b[0m\n\u001b[0m\u001b[0;32m   1322\u001b[0m             \u001b[0mr\u001b[0m \u001b[1;33m=\u001b[0m \u001b[0mh\u001b[0m\u001b[1;33m.\u001b[0m\u001b[0mgetresponse\u001b[0m\u001b[1;33m(\u001b[0m\u001b[1;33m)\u001b[0m\u001b[1;33m\u001b[0m\u001b[1;33m\u001b[0m\u001b[0m\n\u001b[0;32m   1323\u001b[0m         \u001b[1;32mexcept\u001b[0m\u001b[1;33m:\u001b[0m\u001b[1;33m\u001b[0m\u001b[1;33m\u001b[0m\u001b[0m\n",
      "\u001b[1;31mURLError\u001b[0m: <urlopen error [WinError 10060] A connection attempt failed because the connected party did not properly respond after a period of time, or established connection failed because connected host has failed to respond>"
     ]
    }
   ],
   "source": [
    "####Income Statement\n",
    "import pandas as pd\n",
    "from bs4 import BeautifulSoup\n",
    "import urllib.request as ur\n",
    "index=stock\n",
    "url_is_ind=\"https://in.finance.yahoo.com/quote/\"+index+\"/financials?p=\"+index\n",
    "url_is = \"https://finance.yahoo.com/quote/\" + index + \"/financials?p=\" + index\n",
    "url_bs = \"https://finance.yahoo.com/quote/\" + index +\"/balance-sheet?p=\"+ index\n",
    "url_bs\n",
    "#url_cf = ‘https://finance.yahoo.com/quote/' + index + ‘/cash-flow?p=’+ index\n",
    "read_data = ur.urlopen(url_is_ind).read() \n",
    "soup_is= BeautifulSoup(read_data,\"lxml\")\n",
    "ls= [] # Create empty list\n",
    "for l in soup_is.find_all('div'): \n",
    "     ls.append(l.string) # add each element one by one to the list\n",
    " \n",
    "ls = [e for e in ls if e not in (\"Operating Expenses\",\"Non-recurring Events\")] # Exclude those columns\n",
    "new_ls = list(filter(None,ls))\n",
    "new_ls\n",
    "# remove last 5 irrelevant column'\n",
    "new_ls = new_ls[12:]\n",
    "new_ls\n",
    "is_data = list(zip(*[iter(new_ls)]*5))#### Change this 5 to 6 if Annual reoprt of your company is already released\n",
    "global Income_st\n",
    "Income_st = pd.DataFrame(is_data[0:])\n",
    "\n",
    "Income_st.columns = Income_st.iloc[0] # Name columns to first row of dataframe\n",
    "Income_st = Income_st.iloc[1:,] # start to read 1st row\n",
    "Income_st = Income_st.T # transpose dataframe\n",
    "Income_st.columns = Income_st.iloc[0] #Name columns to first row of dataframe\n",
    "Income_st.drop(Income_st.index[0],inplace=True) #Drop first index row\n",
    "Income_st.index.name = \"\" # Remove the index name\n",
    "Income_st.rename(index={\"ttm\":'12/31/2019'},inplace=True) #Rename ttm in index columns to end of the year\n",
    "#Income_st=income_st[\"Total Revenue\",\"Net Income\",]\n",
    "Income_st=Income_st.replace(to_replace =\"-\", \n",
    "                 value =float(0.0)) \n",
    "Income_st.head()\n"
   ]
  },
  {
   "cell_type": "code",
   "execution_count": null,
   "metadata": {},
   "outputs": [],
   "source": [
    "#### Balance Sheet####\n",
    "import pandas as pd\n",
    "from bs4 import BeautifulSoup\n",
    "import urllib.request as ur\n",
    "index=stock\n",
    "url_bs = \"https://in.finance.yahoo.com/quote/\" + index +\"/balance-sheet?p=\"+ index\n",
    "url_bs\n",
    "#url_cf = ‘https://finance.yahoo.com/quote/' + index + ‘/cash-flow?p=’+ index\n",
    "read_data = ur.urlopen(url_bs).read() \n",
    "soup_is= BeautifulSoup(read_data,\"lxml\")\n",
    "ls= [] # Create empty list\n",
    "\n",
    "for l in soup_is.find_all('div'): \n",
    "     ls.append(l.string)\n",
    "ls = [e for e in ls if e not in ( 'AXISBANK.NS - Axis Bank Limited', 'NSE - NSE Real Time Price. Currency in INR',' react-empty: 2 ',\n",
    " 'Tip: Try a valid symbol or a specific company name for relevant results',\n",
    " 'Cancel',' react-empty: 6 ', \"No matching results for ''\", '© 2020 Verizon Media. All rights reserved.')] # Exclude those columns\n",
    "new_ls = list(filter(None,ls))\n",
    "new_ls\n",
    "new_ls = new_ls[5:]###Change this to 4 Axisbank-like stocks\n",
    "new_ls\n",
    "bs_data = list(zip(*[iter(new_ls)]*4))### 4-If 2020 balance Sheet not relaeased ###5 if released\n",
    "global Balance_st\n",
    "Balance_st = pd.DataFrame(bs_data[0:])\n",
    "Balance_st\n",
    "Balance_st.columns = Balance_st.iloc[0] # Name columns to first row of dataframe\n",
    "Balance_st = Balance_st.iloc[1:,] # start to read 1st row\n",
    "Balance_st = Balance_st.T # transpose dataframe\n",
    "Balance_st.columns = Balance_st.iloc[0] #Name columns to first row of dataframe\n",
    "Balance_st.drop(Balance_st.index[0],inplace=True) #Drop first index row\n",
    "Balance_st.index.name = \"\" # Remove the index name\n",
    "Balance_st.head()\n",
    "Balance_st=Balance_st[[\"Total assets\",\"Total liabilities\",\"Total stockholders' equity\"]]#Mofiy here fro Axis Bank like columns\n",
    "#Balance_st.drop(columns=['Common Stock',\"Total liabilities and stockholders' equity\"],inplace=True)\n",
    "Balance_st"
   ]
  },
  {
   "cell_type": "code",
   "execution_count": 70,
   "metadata": {},
   "outputs": [],
   "source": [
    "\n"
   ]
  },
  {
   "cell_type": "code",
   "execution_count": null,
   "metadata": {},
   "outputs": [],
   "source": [
    "#### Statistics####\n",
    "import pandas as pd\n",
    "from bs4 import BeautifulSoup\n",
    "import urllib.request as ur\n",
    "index=stock\n",
    "url_bs = \"https://finance.yahoo.com/quote/\" + index +\"/key-statistics?p=\"+ index\n",
    "url_bs\n",
    "#url_cf = ‘https://finance.yahoo.com/quote/' + index + ‘/key-statistics?p=’+ index\n",
    "read_data = ur.urlopen(url_bs).read() \n",
    "soup_is= BeautifulSoup(read_data,\"lxml\")\n",
    "ls= [] # Create empty list\n",
    "\n",
    "\n",
    "for l in soup_is.find_all(['span','td']): \n",
    "     ls.append(l.string)\n",
    "ls \n",
    "ls=ls[14:]\n",
    "ls=ls[:len(ls)-11]\n",
    "ls = [e for e in ls if e not in ( 'Valuation Measures','Balance Sheet', 'Dividends & Splits', 'Management Effectiveness', 'Share Statistics'\n",
    "                                'Financial Highlights','Income Statement','Profitability','Cash Flow Statement','Financial Highlights','Trading Information',\n",
    " 'Stock Price History','Fiscal Year',\n",
    " 'Fiscal Year Ends',\n",
    " 'Mar 31, 2019',\n",
    " 'Most Recent Quarter',\n",
    "                                 \n",
    " 'Dec 31, 2019','Share Statistics')]# Exclude those columns\n",
    "ls=list(filter(None,ls))\n",
    "#index=[8,11,20,45,48,51,54,57,60,63,74,79,92,95,106,121,124,129]\n",
    "index = []\n",
    "num = len(ls)\n",
    "i = 0\n",
    "\n",
    "while i < num-1:\n",
    "    if ls[i] == ls[i+1] and ls[i] == 'N/A':\n",
    "        index.append(ls[i])\n",
    "        i += 2\n",
    "    else:\n",
    "        index.append(ls[i])\n",
    "        i = i + 1\n",
    "index\n",
    "new_ls=index\n",
    "new_ls\n",
    "stat_data = list(zip(*[iter(new_ls)]*2))\n",
    "stat_data\n",
    "global stat_st\n",
    "stat_st = pd.DataFrame(stat_data[0:])\n",
    "stat_st = stat_st.T # Transpose Dataframe\n",
    "stat_st.columns = stat_st.iloc[0] #Name columns to first row of dataframe\n",
    "stat_st.drop(stat_st.index[0],inplace=True) #Drop first index row\n",
    "stat_st\n",
    "stat_st.index.name = \"\" # Remove the index name\n",
    "stat_st=stat_st.replace(to_replace=\"N/A\",value=float(0.0))\n",
    "stat_st.head()\n",
    "\n",
    "#stat_st.columns\n"
   ]
  },
  {
   "cell_type": "code",
   "execution_count": null,
   "metadata": {},
   "outputs": [],
   "source": [
    "####Price####\n",
    "import pandas as pd\n",
    "from bs4 import BeautifulSoup\n",
    "import urllib.request as ur\n",
    "global index\n",
    "index=stock\n",
    "url_bs = \"https://in.finance.yahoo.com/quote/\"+index+\"/\"\n",
    "url_bs\n",
    "#url_cf = ‘https://finance.yahoo.com/quote/' + index + ‘/balance-sheet?p=’+ index\n",
    "read_data = ur.urlopen(url_bs).read() \n",
    "soup_is= BeautifulSoup(read_data,\"lxml\")\n",
    "ls= [] # Create empty list\n",
    "\n",
    "for l in soup_is.find_all('span'): \n",
    "     ls.append(l.string)\n",
    "global price        \n",
    "price=float(ls[13].replace(\",\",\"\"))\n",
    "\n",
    "price\n"
   ]
  },
  {
   "cell_type": "code",
   "execution_count": 7,
   "metadata": {},
   "outputs": [
    {
     "data": {
      "text/html": [
       "<div>\n",
       "<style scoped>\n",
       "    .dataframe tbody tr th:only-of-type {\n",
       "        vertical-align: middle;\n",
       "    }\n",
       "\n",
       "    .dataframe tbody tr th {\n",
       "        vertical-align: top;\n",
       "    }\n",
       "\n",
       "    .dataframe thead th {\n",
       "        text-align: right;\n",
       "    }\n",
       "</style>\n",
       "<table border=\"1\" class=\"dataframe\">\n",
       "  <thead>\n",
       "    <tr style=\"text-align: right;\">\n",
       "      <th>Quarterly</th>\n",
       "      <th>Total assets</th>\n",
       "      <th>Total liabilities</th>\n",
       "      <th>Total stockholders' equity</th>\n",
       "      <th>% liabilities</th>\n",
       "      <th>Leverage</th>\n",
       "      <th>Book Value</th>\n",
       "      <th>Profit this year</th>\n",
       "      <th>Profit Last Year</th>\n",
       "      <th>Profit Change</th>\n",
       "      <th>EPS This Year</th>\n",
       "      <th>...</th>\n",
       "      <th>ROA</th>\n",
       "      <th>ROE</th>\n",
       "      <th>Payout Ratio</th>\n",
       "      <th>5 Avg Dividend Yield</th>\n",
       "      <th>Forward Dividend Yield</th>\n",
       "      <th>Profit Margin</th>\n",
       "      <th>Operating Margin</th>\n",
       "      <th>Debt/Equity</th>\n",
       "      <th>Avg Revenue Growth%</th>\n",
       "      <th>Avg Profit Growth%</th>\n",
       "    </tr>\n",
       "  </thead>\n",
       "  <tbody>\n",
       "    <tr>\n",
       "      <th>UPL.NS</th>\n",
       "      <td>630480000</td>\n",
       "      <td>450450000</td>\n",
       "      <td>146450000</td>\n",
       "      <td>71.445565</td>\n",
       "      <td>4.305087</td>\n",
       "      <td>146450000</td>\n",
       "      <td>14470000.0</td>\n",
       "      <td>2.022e+07</td>\n",
       "      <td>-28.437191</td>\n",
       "      <td>18.95</td>\n",
       "      <td>...</td>\n",
       "      <td>2.295077</td>\n",
       "      <td>9.880505</td>\n",
       "      <td>29.91%</td>\n",
       "      <td>0.95</td>\n",
       "      <td>0.0</td>\n",
       "      <td>4.97%</td>\n",
       "      <td>14.24%</td>\n",
       "      <td>129.91</td>\n",
       "      <td>-1.077071</td>\n",
       "      <td>-11.781741</td>\n",
       "    </tr>\n",
       "  </tbody>\n",
       "</table>\n",
       "<p>1 rows × 31 columns</p>\n",
       "</div>"
      ],
      "text/plain": [
       "Quarterly  Total assets  Total liabilities  Total stockholders' equity  \\\n",
       "UPL.NS        630480000          450450000                   146450000   \n",
       "\n",
       "Quarterly  % liabilities  Leverage  Book Value  Profit this year  \\\n",
       "UPL.NS         71.445565  4.305087   146450000        14470000.0   \n",
       "\n",
       "Quarterly Profit Last Year  Profit Change  EPS This Year  ...       ROA  \\\n",
       "UPL.NS           2.022e+07     -28.437191          18.95  ...  2.295077   \n",
       "\n",
       "Quarterly       ROE  Payout Ratio 5 Avg Dividend Yield  \\\n",
       "UPL.NS     9.880505        29.91%                 0.95   \n",
       "\n",
       "Quarterly  Forward Dividend Yield  Profit Margin  Operating Margin  \\\n",
       "UPL.NS                        0.0          4.97%            14.24%   \n",
       "\n",
       "Quarterly  Debt/Equity  Avg Revenue Growth%  Avg Profit Growth%  \n",
       "UPL.NS          129.91            -1.077071          -11.781741  \n",
       "\n",
       "[1 rows x 31 columns]"
      ]
     },
     "execution_count": 7,
     "metadata": {},
     "output_type": "execute_result"
    }
   ],
   "source": [
    "## data Manipulation to create table strucutrue\n",
    "import pandas as pd\n",
    "import numpy as np\n",
    "Balance_st.head()## remov ecommon stock\n",
    "\n",
    "##### Get data from Balance sheet for your sheet\n",
    "global ls\n",
    "ls=[]\n",
    "for x in Balance_st.loc['31/3/2019']:\n",
    "        y=x.replace(\",\",\"\")\n",
    "        ls.append(int(y))\n",
    "    \n",
    "ls=pd.DataFrame(ls)  \n",
    "ls=ls.T\n",
    "ls.columns=Balance_st.columns\n",
    "ls[\"% liabilities\"]=ls['Total liabilities']/ls['Total assets']*100\n",
    "ls[\"Leverage\"]=ls['Total assets']/ls[\"Total stockholders' equity\"]\n",
    "ls[\"Book Value\"]=ls[\"Total stockholders' equity\"]\n",
    "###Income Statement\n",
    "Income_st.head() \n",
    "global ls_inc\n",
    "ls_inc=[]\n",
    "for x in Income_st.loc['31/3/2019']:\n",
    "        if type(x)!=float:\n",
    "            y=x.replace(\",\",\"\")\n",
    "            ls_inc.append(float(y))\n",
    "        else:\n",
    "            ls_inc.append(y)\n",
    "ls_inc=pd.DataFrame(ls_inc)  \n",
    "ls_inc=ls_inc.T\n",
    "ls_inc.columns=Income_st.columns \n",
    "ls['Profit this year']=ls_inc['Net income']\n",
    "ls['Profit Last Year']=\"Bf\"\n",
    "ls.loc[0,'Profit Last Year']=float(Income_st.loc['31/3/2018','Net income'].replace(\",\",\"\"))\n",
    "ls['Profit Change']=(float(ls['Profit this year'])/float(ls['Profit Last Year'])-1)*100\n",
    "ls['EPS This Year']=float(Income_st.loc['31/3/2019','Basic EPS'])\n",
    "ls['EPS last Year']=float(Income_st.loc['31/3/2018','Basic EPS'])\n",
    "ls['EPS Change']=(float(ls['EPS This Year'])/float(ls['EPS last Year'])-1)*100\n",
    "ls['Book Value Per Share']=float(stat_st['Book Value Per Share'].replace(\",\",\"\"))\n",
    "ls['EV/EBITDA']=stat_st['Enterprise Value/EBITDA']\n",
    "ls['Price']=float(price)\n",
    "\n",
    "Income_st.loc['12/31/2019','Basic EPS']=float(0.0)\n",
    "df1=pd.DataFrame()\n",
    "df1['Teja']=Income_st['Basic EPS']\n",
    "df1['Teja']=df1['Teja'].astype('float')\n",
    "ls['EPS Avg']=df1['Teja'].mean(skipna=True)\n",
    "ls['EPS Avg Growth']=(ls['EPS This Year']/ls['EPS Avg']-1)*100\n",
    "ls['P/E']=ls['Price']/ls['EPS This Year']\n",
    "ls['P/PEG']=ls['P/E']/ls['EPS Change']\n",
    "ls['P/PEG Avg']=ls['P/E']/ls['EPS Avg Growth']\n",
    "ls['P/BV']=ls['Price']/ls['Book Value Per Share']\n",
    "ls['ROA']=(ls['Profit this year']/ls['Total assets'])*100\n",
    "ls['ROE']=(ls['Profit this year']/ls['Book Value'])*100\n",
    "ls['Payout Ratio']=stat_st['Payout Ratio'][1]\n",
    "ls['5 Avg Dividend Yield']=stat_st['5 Year Average Dividend Yield'][1]\n",
    "ls['Forward Dividend Yield']=stat_st['Forward Annual Dividend Yield'][1]\n",
    "ls[\"Profit Margin\"]=stat_st['Profit Margin'][1]\n",
    "ls['Operating Margin']=stat_st['Operating Margin'][1]\n",
    "ls['Debt/Equity']=stat_st['Total Debt/Equity'][1]\n",
    "ls1=[float(x.replace(\",\",\"\")) for x in Income_st['Total revenue']]\n",
    "ls1=np.array(ls1)\n",
    "revenue_mean=ls1.mean()\n",
    "ls['Avg Revenue Growth%']=(float(Income_st.loc['31/3/2019','Total revenue'].replace(\",\",\"\"))/revenue_mean-1)*100\n",
    "ls2=[float(x.replace(\",\",\"\")) for x in Income_st['Net income']]\n",
    "ls2=np.array(ls2)\n",
    "profit_mean=ls2.mean()\n",
    "ls['Avg Profit Growth%']=(float(Income_st.loc['31/3/2019','Net income'].replace(\",\",\"\"))/profit_mean-1)*100\n",
    "ls=ls.rename(index={0:stock})\n",
    "global df\n",
    "df=pd.DataFrame()\n",
    "df=df.append(ls,sort=False)\n",
    "df.head()\n",
    "#ls['% Liabilities']=float(ls.iloc[0]['Total Liabilities'])/float(ls.iloc[0]['Total Assets'])\n"
   ]
  },
  {
   "cell_type": "code",
   "execution_count": 8,
   "metadata": {},
   "outputs": [
    {
     "data": {
      "text/plain": [
       "UPL.NS   -28.437191\n",
       "Name: Profit Change, dtype: float64"
      ]
     },
     "execution_count": 8,
     "metadata": {},
     "output_type": "execute_result"
    }
   ],
   "source": [
    "df.to_excel(r\"C:\\Users\\mihir.rao\\Desktop\\MEDIA.xlsx\",index=True)\n",
    "df['Profit Change']"
   ]
  },
  {
   "cell_type": "code",
   "execution_count": 10,
   "metadata": {},
   "outputs": [
    {
     "name": "stderr",
     "output_type": "stream",
     "text": [
      "ERROR: Could not find a version that satisfies the requirement bokeh-plotting (from versions: none)\n",
      "ERROR: No matching distribution found for bokeh-plotting\n"
     ]
    }
   ],
   "source": [
    "!pip install bokeh-pl"
   ]
  }
 ],
 "metadata": {
  "kernelspec": {
   "display_name": "Python 3",
   "language": "python",
   "name": "python3"
  },
  "language_info": {
   "codemirror_mode": {
    "name": "ipython",
    "version": 3
   },
   "file_extension": ".py",
   "mimetype": "text/x-python",
   "name": "python",
   "nbconvert_exporter": "python",
   "pygments_lexer": "ipython3",
   "version": "3.7.6"
  }
 },
 "nbformat": 4,
 "nbformat_minor": 1
}
